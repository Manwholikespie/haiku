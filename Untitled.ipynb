{
 "cells": [
  {
   "cell_type": "code",
   "execution_count": 1,
   "metadata": {
    "collapsed": true
   },
   "outputs": [],
   "source": [
    "a = wordData = [('urban',\n",
    "  [('downtown', 2),\n",
    "   ('civil', 2),\n",
    "   ('metropolitan', 5),\n",
    "   ('civic', 2),\n",
    "   ('central', 2),\n",
    "   ('municipal', 4),\n",
    "   ('popular', 3),\n",
    "   ('public', 2),\n",
    "   ('town', 1),\n",
    "   ('village', 2),\n",
    "   ('burghal', 2),\n",
    "   ('citified', 3),\n",
    "   ('inner-city', 4),\n",
    "   ('nonrural', 3),\n",
    "   ('oppidan', 3)]),\n",
    " ('rather',\n",
    "  [('fairly', 2),\n",
    "   ('pretty', 2),\n",
    "   ('kind of', 2),\n",
    "   ('comparatively', 5),\n",
    "   ('quite', 1),\n",
    "   ('somewhat', 2),\n",
    "   ('slightly', 2),\n",
    "   ('relatively', 4),\n",
    "   ('enough', 2),\n",
    "   ('more or less', 3),\n",
    "   ('reasonably', 4),\n",
    "   ('so-so', 2),\n",
    "   ('some', 1),\n",
    "   ('something', 2),\n",
    "   ('sort of', 1),\n",
    "   ('a bit', 2),\n",
    "   ('a little', 3),\n",
    "   ('averagely', 4),\n",
    "   ('in a certain degree', 4),\n",
    "   ('passably', 3),\n",
    "   ('ratherish', 3),\n",
    "   ('to some degree', 3),\n",
    "   ('to some extent', 3),\n",
    "   ('tolerably', 4)]),\n",
    " ('possessed',\n",
    "  [('enchanted', 3),\n",
    "   ('haunted', 2),\n",
    "   ('gone', 1),\n",
    "   ('obsessed', 2),\n",
    "   ('hooked', 1),\n",
    "   ('cursed', 1),\n",
    "   ('crazed', 1),\n",
    "   ('raving', 2),\n",
    "   ('berserk', 2),\n",
    "   ('demented', 3),\n",
    "   ('fiendish', 2),\n",
    "   ('frenetic', 3),\n",
    "   ('frenzied', 2),\n",
    "   ('insane', 2),\n",
    "   ('into', 2),\n",
    "   ('mad', 1),\n",
    "   ('violent', 3),\n",
    "   ('consumed', 2),\n",
    "   ('enthralled', 2),\n",
    "   ('bedeviled', 3),\n",
    "   ('taken over', 2)])]"
   ]
  },
  {
   "cell_type": "code",
   "execution_count": 9,
   "metadata": {
    "collapsed": false
   },
   "outputs": [
    {
     "name": "stdout",
     "output_type": "stream",
     "text": [
      "('urban', [('downtown', 2), ('civil', 2), ('metropolitan', 5), ('civic', 2), ('central', 2), ('municipal', 4), ('popular', 3), ('public', 2), ('town', 1), ('village', 2), ('burghal', 2), ('citified', 3), ('inner-city', 4), ('nonrural', 3), ('oppidan', 3)])\n"
     ]
    }
   ],
   "source": [
    "for item in a:\n",
    "    if item[0] == 'urban':\n",
    "    "
   ]
  },
  {
   "cell_type": "code",
   "execution_count": null,
   "metadata": {
    "collapsed": true
   },
   "outputs": [],
   "source": []
  }
 ],
 "metadata": {
  "kernelspec": {
   "display_name": "Python 2",
   "language": "python",
   "name": "python2"
  },
  "language_info": {
   "codemirror_mode": {
    "name": "ipython",
    "version": 2
   },
   "file_extension": ".py",
   "mimetype": "text/x-python",
   "name": "python",
   "nbconvert_exporter": "python",
   "pygments_lexer": "ipython2",
   "version": "2.7.12"
  }
 },
 "nbformat": 4,
 "nbformat_minor": 0
}
